{
 "cells": [
  {
   "cell_type": "markdown",
   "id": "swedish-hepatitis",
   "metadata": {},
   "source": [
    "# Air Quality Monitoring"
   ]
  },
  {
   "cell_type": "markdown",
   "id": "mineral-needle",
   "metadata": {},
   "source": [
    "### Import/Install packages"
   ]
  },
  {
   "cell_type": "code",
   "execution_count": 54,
   "id": "designed-victor",
   "metadata": {
    "extensions": {
     "jupyter_dashboards": {
      "version": 1,
      "views": {
       "default_view": {
        "hidden": true
       }
      }
     }
    }
   },
   "outputs": [],
   "source": [
    "#!pip install git+https://github.com/datakaveri/iudx-python-sdk\n",
    "#!pip install geojsoncontour\n",
    "#!pip install voila\n",
    "#!pip install voila-gridstack\n",
    "# Use !voila airQualityMonitoring.ipynb --enable_nbextensions=True --template=gridstack to launch dashboard or use jupyter notebook extensions\n",
    "\n",
    "from iudx.entity.Entity import Entity\n",
    "\n",
    "import pandas as pd\n",
    "import numpy as np\n",
    "import json\n",
    "from datetime import date, datetime, timedelta\n",
    "\n",
    "import matplotlib.pyplot as plt\n",
    "import plotly.express as px\n",
    "import plotly.graph_objects as go\n",
    "import folium\n",
    "from folium import plugins\n",
    "from scipy.interpolate import griddata\n",
    "import geojsoncontour\n",
    "\n",
    "import ipywidgets as widgets\n",
    "from ipywidgets import Layout\n",
    "\n",
    "import warnings"
   ]
  },
  {
   "cell_type": "markdown",
   "id": "radical-rehabilitation",
   "metadata": {},
   "source": [
    "### Defining variables and widgets for interaction"
   ]
  },
  {
   "cell_type": "code",
   "execution_count": 55,
   "id": "static-algorithm",
   "metadata": {
    "extensions": {
     "jupyter_dashboards": {
      "version": 1,
      "views": {
       "default_view": {
        "hidden": true
       }
      }
     }
    }
   },
   "outputs": [],
   "source": [
    "# ids of each resource group\n",
    "city_ids={\n",
    "    \"vadodara\": \"vmc.gov.in/ae95ac0975a80bd4fd4127c68d3a5b6f141a3436/rs.iudx.org.in/vadodara-env-aqm\",\n",
    "    \"varanasi\": \"varanasismartcity.gov.in/62d1f729edd3d2a1a090cb1c6c89356296963d55/rs.iudx.org.in/varanasi-env-aqm\",\n",
    "    \"pune\": \"datakaveri.org/04a15c9960ffda227e9546f3f46e629e1fe4132b/rs.iudx.org.in/pune-env-aqm\"\n",
    "}\n",
    "# types of values measured in each city - instantaneous or average\n",
    "value_type={\n",
    "    'vadodara': 'instValue',\n",
    "    'varanasi': 'avgOverTime',\n",
    "    'pune':'avgOverTime'\n",
    "}\n",
    "# list of properties common to all cities\n",
    "column_choice=['ambientNoise','so2','uv','co','co2','illuminance','no2','o3','pm10','pm2p5','relativeHumidity']\n",
    "\n",
    "# widgets for interaction\n",
    "prompt1=widgets.HTML(value=\"\")\n",
    "prompt2=widgets.HTML(value=\"\")\n",
    "gif_address = 'https://www.uttf.com.ua/assets/images/loader2.gif'\n",
    "select_ndays=widgets.IntSlider(\n",
    "    value=1,\n",
    "    min=1,\n",
    "    max=14,\n",
    "    step=1,\n",
    "    description='Days: ',\n",
    "    disabled=False,\n",
    "    continuous_update=False,\n",
    "    orientation='horizontal',\n",
    "    readout=True,\n",
    "    readout_format='d'\n",
    ")\n",
    "select_city=widgets.Dropdown(\n",
    "    options=city_ids.keys(),\n",
    "    value='pune',\n",
    "    description='City:',\n",
    "    disabled=False,\n",
    ")\n",
    "select_col=widgets.Dropdown(\n",
    "    options=column_choice,\n",
    "    value='pm10',\n",
    "    description='Property:',\n",
    "    disabled=False,\n",
    ")\n",
    "mywidgets=[select_city,select_ndays,select_col]\n",
    "ui=widgets.VBox([select_city,select_ndays,prompt1,select_col,prompt2])"
   ]
  },
  {
   "cell_type": "markdown",
   "id": "addressed-horizon",
   "metadata": {},
   "source": [
    "### Functions to fetch, prepare and visualize data"
   ]
  },
  {
   "cell_type": "markdown",
   "id": "unlimited-composite",
   "metadata": {},
   "source": [
    "##### Fetch data"
   ]
  },
  {
   "cell_type": "code",
   "execution_count": 56,
   "id": "collected-brazilian",
   "metadata": {
    "extensions": {
     "jupyter_dashboards": {
      "version": 1,
      "views": {
       "default_view": {
        "hidden": true
       }
      }
     }
    }
   },
   "outputs": [],
   "source": [
    "# fetch latest data in the past n days for a city and add/modify required columns\n",
    "def get_data(selected_city,ndays):\n",
    "    for widget in mywidgets:\n",
    "        widget.disabled=True\n",
    "    prompt1.value=f'<img src=\"{gif_address}\" height=150 width=150> Fetching data'\n",
    "    global entity,measures,latest_measures,start_time,end_time,city\n",
    "    city=selected_city\n",
    "    entity=Entity(entity_id=city_ids[city])\n",
    "    latest_measures=entity.latest().reset_index(drop=True)\n",
    "    end_time = latest_measures['observationDateTime'].sort_values(ascending=False).reset_index(drop=True)[0]\n",
    "    start_time = (end_time - timedelta(days=ndays,hours=6))\n",
    "    measures = entity.during_search(\n",
    "        start_time=start_time.strftime(\"%Y-%m-%dT%H:%M:%SZ\"),\n",
    "        end_time=end_time.strftime(\"%Y-%m-%dT%H:%M:%SZ\"),\n",
    "    )\n",
    "    measures['observationDateTime']=measures['observationDateTime'].apply(lambda x:x.tz_localize(None))\n",
    "    latest_measures['observationDateTime']=latest_measures['observationDateTime'].apply(lambda x:x.tz_localize(None))\n",
    "    rs_coordinates={}\n",
    "    rs_label={}\n",
    "    for res in entity.resources:\n",
    "        rs_coordinates[res['id']]=res['location']['geometry']['coordinates']\n",
    "        rs_label[res['id']]=res['name']\n",
    "    latest_measures['x_co']=latest_measures['id'].apply(lambda id:rs_coordinates[id][0])\n",
    "    latest_measures['y_co']=latest_measures['id'].apply(lambda id:rs_coordinates[id][1])\n",
    "    measures['x_co']=measures['id'].apply(lambda id:rs_coordinates[id][0])\n",
    "    measures['y_co']=measures['id'].apply(lambda id:rs_coordinates[id][1])\n",
    "    measures['label']=measures['id'].apply(lambda id:rs_label[id])\n",
    "    latest_measures['label']=measures['id'].apply(lambda id:rs_label[id])\n",
    "    for widget in mywidgets:\n",
    "        widget.disabled=False\n",
    "    prompt1.value=f'Fetched {measures.shape[0]} records from {len(entity.resources)} resources'"
   ]
  },
  {
   "cell_type": "markdown",
   "id": "false-butter",
   "metadata": {},
   "source": [
    "##### Spatial Visualization"
   ]
  },
  {
   "cell_type": "code",
   "execution_count": 57,
   "id": "falling-trance",
   "metadata": {
    "extensions": {
     "jupyter_dashboards": {
      "version": 1,
      "views": {
       "default_view": {
        "hidden": true
       }
      }
     }
    }
   },
   "outputs": [],
   "source": [
    "# plot contours over a map for a given property\n",
    "def spatialVis1(selected_city, col):\n",
    "    global city,units\n",
    "    prop_desc=entity._data_descriptor[col][value_type[city]]\n",
    "    units=prop_desc[\"unitText\"]\n",
    "    prompt2.value=f'{prop_desc[\"description\"]}<br> Unit: {units}'\n",
    "    city=selected_city\n",
    "    column_name=col+\".\"+value_type[city]\n",
    "    x_orig = []\n",
    "    y_orig = []\n",
    "    zs = []\n",
    "    for res in entity.resources:\n",
    "        try:\n",
    "            val = latest_measures[latest_measures[\"id\"] == res[\"id\"]][column_name].values[0]\n",
    "            if val is not None and val>0:\n",
    "                zs.append(val)\n",
    "                x_orig.append(res[\"location\"][\"geometry\"][\"coordinates\"][0])\n",
    "                y_orig.append(res[\"location\"][\"geometry\"][\"coordinates\"][1])\n",
    "        except:\n",
    "            pass\n",
    "    x_orig = np.array(x_orig)\n",
    "    y_orig = np.array(y_orig)\n",
    "    zs = np.array(zs)\n",
    "    # Initialize the map\n",
    "    geomap1 = folium.Map([y_orig.mean(), x_orig.mean()], zoom_start=11, tiles=\"cartodbpositron\")\n",
    "    for res in entity.resources:\n",
    "        entity_id = res[\"id\"]\n",
    "        try:\n",
    "          val=latest_measures[latest_measures['id']==entity_id][column_name].values[0]\n",
    "          if val is not None and val>0:\n",
    "            folium.Marker([res[\"location\"][\"geometry\"][\"coordinates\"][1], res[\"location\"][\"geometry\"][\"coordinates\"][0]],\n",
    "                          tooltip=f'{col.upper()}: {str(val)}').add_to(geomap1)\n",
    "        except:\n",
    "          pass\n",
    "    # Make lat and lon linspace\n",
    "    y_arr = np.linspace(np.min(y_orig), np.max(y_orig), 100)\n",
    "    x_arr = np.linspace(np.min(x_orig), np.max(x_orig), 100)\n",
    "    # Make mesh grid\n",
    "    x_mesh, y_mesh = np.meshgrid(x_arr, y_arr)\n",
    "    # Perform cubic interpolation\n",
    "    z_mesh = griddata((x_orig, y_orig), zs, (x_mesh, y_mesh), method='cubic')\n",
    "    # Number of levels of colors\n",
    "    levels = 20\n",
    "    contourf=plt.contourf(x_mesh, y_mesh, z_mesh, levels, alpha=0.5, \n",
    "                              cmap=\"bwr\", linestyles='None', vmin=0, vmax=100)\n",
    "    plt.close()\n",
    "    # Convert matplotlib contourf to geojson\n",
    "    geojson = geojsoncontour.contourf_to_geojson(\n",
    "        contourf=contourf,\n",
    "        min_angle_deg=3.0,\n",
    "        ndigits=5,\n",
    "        stroke_width=1,\n",
    "        fill_opacity=0.5)\n",
    "    # Plot the contour plot on folium\n",
    "    folium.GeoJson(\n",
    "        geojson,\n",
    "        style_function=lambda x: {\n",
    "            'color':     x['properties']['stroke'],\n",
    "            'weight':    x['properties']['stroke-width'],\n",
    "            'fillColor': x['properties']['fill'],\n",
    "            'opacity':   0.6,\n",
    "        }).add_to(geomap1)\n",
    "    # Show map\n",
    "    display(geomap1)"
   ]
  },
  {
   "cell_type": "code",
   "execution_count": 58,
   "id": "tribal-oregon",
   "metadata": {
    "extensions": {
     "jupyter_dashboards": {
      "version": 1,
      "views": {
       "default_view": {
        "hidden": true
       }
      }
     }
    }
   },
   "outputs": [],
   "source": [
    "# plot bubbles over a map for a given property\n",
    "def spatialVis2(selected_city, col):\n",
    "    city=selected_city\n",
    "    column_name=col+\".\"+value_type[city]\n",
    "    maxval=max(list(filter(None,latest_measures[column_name])))\n",
    "    minval=min(list(filter(None,latest_measures[column_name])))\n",
    "    geomap2 = folium.Map([latest_measures['y_co'].mean(), latest_measures['x_co'].mean()], zoom_start=12, tiles=\"cartodbpositron\")\n",
    "    for res in entity.resources:\n",
    "        entity_id = res[\"id\"]\n",
    "        try:\n",
    "          val=latest_measures[latest_measures['id']==entity_id][column_name].values[0]\n",
    "          if val is not None and val>0:\n",
    "            folium.Circle(\n",
    "              [res[\"location\"][\"geometry\"][\"coordinates\"][1], res[\"location\"][\"geometry\"][\"coordinates\"][0]],\n",
    "              radius=2000*(val-minval)/(maxval-minval),\n",
    "              popup = f'{col.upper()}: {str(val)}',\n",
    "              color='b',\n",
    "              fill_color=('red' if ((val-minval)/(maxval-minval))>0.6 else 'blue'),\n",
    "              fill=True,\n",
    "              fill_opacity=0.4\n",
    "              ).add_to(geomap2)\n",
    "        except:\n",
    "          pass\n",
    "    display(geomap2)"
   ]
  },
  {
   "cell_type": "markdown",
   "id": "neural-frank",
   "metadata": {},
   "source": [
    "##### Time Series Visualization"
   ]
  },
  {
   "cell_type": "code",
   "execution_count": 59,
   "id": "missing-drive",
   "metadata": {
    "extensions": {
     "jupyter_dashboards": {
      "version": 1,
      "views": {
       "default_view": {
        "hidden": true
       }
      }
     }
    }
   },
   "outputs": [],
   "source": [
    "# plot the measures of a proprty over ndays for the resource with the latest recording\n",
    "def timeSeriesVis1(selected_city, col, ndays):\n",
    "    column_name=col+\".\"+value_type[city]\n",
    "    sensor_id = measures.sort_values(by='observationDateTime',ascending=False).reset_index(drop=True)['id'][0]\n",
    "    single_resource_data = measures.query(f\"id == '{sensor_id}'\")\n",
    "    sensor_coordinates=[]\n",
    "    for res in entity.resources:\n",
    "      if res['id']==sensor_id:\n",
    "        sensor_coordinates=res['location']['geometry']['coordinates']\n",
    "    fig = px.line(\n",
    "        single_resource_data, \n",
    "        x=\"observationDateTime\", \n",
    "        y=column_name\n",
    "    )\n",
    "    display(widgets.HTML(f'<center style=\"font-size:14px\">Temporal sensor reading for \\n {col.upper()} from {start_time.date()} to {end_time.date()} for resource at {sensor_coordinates}<center>'))\n",
    "    fig.update_layout(\n",
    "        xaxis_title=\"Observed Timestamp\",\n",
    "        yaxis_title=\"Sensor reading for \"+col.upper()+\" (\"+units+\")\",\n",
    "        font=dict(\n",
    "            size=12\n",
    "        )\n",
    "    )\n",
    "    fig.update_xaxes(rangeslider_visible=True)\n",
    "    fig.show()"
   ]
  },
  {
   "cell_type": "code",
   "execution_count": 60,
   "id": "bigger-preliminary",
   "metadata": {
    "extensions": {
     "jupyter_dashboards": {
      "version": 1,
      "views": {
       "default_view": {
        "hidden": true
       }
      }
     }
    }
   },
   "outputs": [],
   "source": [
    "# plot the measures of a proprty over ndays for all resources\n",
    "def timeSeriesVis2(selected_city, col, ndays):\n",
    "    column_name=col+\".\"+value_type[city]\n",
    "    fig = px.line(\n",
    "        measures, \n",
    "        x=\"observationDateTime\", \n",
    "        y=column_name,\n",
    "        color='label'\n",
    "    )\n",
    "    display(widgets.HTML(f'<center style=\"font-size:14px\">Temporal sensor reading for {col.upper()} from {start_time.date()} to {end_time.date()} of all sensors<center>'))\n",
    "    fig.update_layout(\n",
    "        xaxis_title=\"Observed Timestamp\",\n",
    "        yaxis_title=\"Sensor reading for \"+col.upper()+\" (\"+units+\")\",\n",
    "        font=dict(\n",
    "            size=12\n",
    "        )\n",
    "    )\n",
    "    fig.update_xaxes(rangeslider_visible=True)\n",
    "    fig.show()"
   ]
  },
  {
   "cell_type": "code",
   "execution_count": 62,
   "id": "sophisticated-skirt",
   "metadata": {
    "extensions": {
     "jupyter_dashboards": {
      "version": 1,
      "views": {
       "default_view": {
        "hidden": true
       }
      }
     }
    }
   },
   "outputs": [],
   "source": [
    "# plot a box plot over each day of the week for the resource with the latest recording\n",
    "def timeSeriesVis3(selected_city, col, ndays):\n",
    "    column_name=col+\".\"+value_type[city]\n",
    "    sensor_id = measures.sort_values(by='observationDateTime',ascending=False).reset_index(drop=True)['id'][0]\n",
    "    single_resource_data = measures.query(f\"id == '{sensor_id}'\")\n",
    "    warnings.filterwarnings('ignore')\n",
    "    sensor_coordinates=[]\n",
    "    single_resource_data['day']=single_resource_data['observationDateTime'].apply(lambda x:x.strftime('%A'))\n",
    "    for res in entity.resources:\n",
    "      if res['id']==sensor_id:\n",
    "        sensor_coordinates=res['location']['geometry']['coordinates']\n",
    "    fig = px.box(\n",
    "        single_resource_data, \n",
    "        x=\"day\", \n",
    "        y=column_name,\n",
    "        points=\"all\"\n",
    "    )\n",
    "    display(widgets.HTML(f'<center style=\"font-size:14px\">Box plots for \\n {col.upper()} from {start_time.date()} to {end_time.date()} for resource at {sensor_coordinates}<center>'))\n",
    "    fig.update_layout(\n",
    "        #title=f'',\n",
    "        xaxis_title=\"Day\",\n",
    "        yaxis_title=\"Sensor reading for \"+col.upper()+\" (\"+units+\")\",\n",
    "        font=dict(\n",
    "            size=12\n",
    "        )\n",
    "    )\n",
    "    fig.show()"
   ]
  },
  {
   "cell_type": "code",
   "execution_count": 63,
   "id": "fallen-lewis",
   "metadata": {
    "extensions": {
     "jupyter_dashboards": {
      "version": 1,
      "views": {
       "default_view": {
        "hidden": true
       }
      }
     }
    }
   },
   "outputs": [],
   "source": [
    "# plot a histogram showing the average measurements over observed time for the resource with the latest recording\n",
    "def timeSeriesVis4(selected_city, col, ndays):\n",
    "    column_name=col+\".\"+value_type[city]\n",
    "    sensor_id = measures.sort_values(by='observationDateTime',ascending=False).reset_index(drop=True)['id'][0]\n",
    "    single_resource_data = measures.query(f\"id == '{sensor_id}'\")\n",
    "    warnings.filterwarnings('ignore')\n",
    "    sensor_coordinates=[]\n",
    "    single_resource_data['day']=single_resource_data['observationDateTime'].apply(lambda x:x.strftime('%A'))\n",
    "    for res in entity.resources:\n",
    "      if res['id']==sensor_id:\n",
    "        sensor_coordinates=res['location']['geometry']['coordinates']\n",
    "    fig = px.histogram(\n",
    "        single_resource_data, \n",
    "        x=\"observationDateTime\", \n",
    "        y=column_name,\n",
    "        histfunc=\"avg\"\n",
    "    )\n",
    "    display(widgets.HTML(f'<center style=\"font-size:14px\">Histogram for \\n {col.upper()} from {start_time.date()} to {end_time.date()} for resource at {sensor_coordinates}<center>'))\n",
    "    fig.update_layout(\n",
    "        #title=f'',\n",
    "        xaxis_title=\"Day\",\n",
    "        yaxis_title=\"Sensor reading for \"+col.upper()+\" (\"+units+\")\",\n",
    "        font=dict(\n",
    "            size=12\n",
    "        )\n",
    "    )\n",
    "    fig.show()"
   ]
  },
  {
   "cell_type": "markdown",
   "id": "large-michigan",
   "metadata": {},
   "source": [
    "##### Basic Visualization"
   ]
  },
  {
   "cell_type": "code",
   "execution_count": 61,
   "id": "cardiac-final",
   "metadata": {
    "extensions": {
     "jupyter_dashboards": {
      "version": 1,
      "views": {
       "default_view": {
        "hidden": true
       }
      }
     }
    }
   },
   "outputs": [],
   "source": [
    "# plot a bar chart for the latest measures of a property at all active resources\n",
    "def simpleVis1(selected_city, col):\n",
    "    column_name=col+\".\"+value_type[city]\n",
    "    display(widgets.HTML(f'<center style=\"font-size:14px\">Latest temporal sensor reading for {col.upper()} of all sensors<center>'))\n",
    "    fig = px.bar(latest_measures, x='label', y=column_name)\n",
    "    fig.update_layout(\n",
    "        xaxis_title=\"Sensor Id\",\n",
    "        yaxis_title=\"Sensor reading for \"+col.upper()+\" (\"+units+\")\",\n",
    "        font=dict(\n",
    "            size=12\n",
    "        )\n",
    "    )\n",
    "    fig.show()"
   ]
  },
  {
   "cell_type": "markdown",
   "id": "sapphire-cooper",
   "metadata": {},
   "source": [
    "### Interactive outputs for dashboard"
   ]
  },
  {
   "cell_type": "code",
   "execution_count": 64,
   "id": "wrong-accreditation",
   "metadata": {
    "extensions": {
     "jupyter_dashboards": {
      "version": 1,
      "views": {
       "default_view": {
        "col": 0,
        "height": 7,
        "row": 0,
        "width": 4
       }
      }
     }
    },
    "scrolled": false
   },
   "outputs": [
    {
     "data": {
      "application/vnd.jupyter.widget-view+json": {
       "model_id": "c179f1b2e8fa4aa7a0e1d80efca680c9",
       "version_major": 2,
       "version_minor": 0
      },
      "text/plain": [
       "VBox(children=(Dropdown(description='City:', index=2, options=('vadodara', 'varanasi', 'pune'), value='pune'),…"
      ]
     },
     "metadata": {},
     "output_type": "display_data"
    }
   ],
   "source": [
    "# display the widgets\n",
    "ui"
   ]
  },
  {
   "cell_type": "code",
   "execution_count": 65,
   "id": "gross-relationship",
   "metadata": {
    "extensions": {
     "jupyter_dashboards": {
      "version": 1,
      "views": {
       "default_view": {
        "col": 0,
        "height": 1,
        "row": 65,
        "width": 12
       }
      }
     }
    }
   },
   "outputs": [
    {
     "data": {
      "application/vnd.jupyter.widget-view+json": {
       "model_id": "a51d381b69984955b02e0f64aa1dcb0a",
       "version_major": 2,
       "version_minor": 0
      },
      "text/plain": [
       "Output()"
      ]
     },
     "metadata": {},
     "output_type": "display_data"
    }
   ],
   "source": [
    "# fetch data\n",
    "widgets.interactive_output(get_data,{'selected_city':select_city,'ndays':select_ndays})"
   ]
  },
  {
   "cell_type": "code",
   "execution_count": 66,
   "id": "novel-excellence",
   "metadata": {
    "extensions": {
     "jupyter_dashboards": {
      "version": 1,
      "views": {
       "default_view": {
        "col": 0,
        "height": 8,
        "row": 7,
        "width": 4
       }
      }
     }
    },
    "scrolled": false
   },
   "outputs": [
    {
     "data": {
      "application/vnd.jupyter.widget-view+json": {
       "model_id": "d39e883fdb7f4e86b185d196cde88e4c",
       "version_major": 2,
       "version_minor": 0
      },
      "text/plain": [
       "Output()"
      ]
     },
     "metadata": {},
     "output_type": "display_data"
    }
   ],
   "source": [
    "# contour map\n",
    "widgets.interactive_output(spatialVis1,{'selected_city':select_city, 'col':select_col})"
   ]
  },
  {
   "cell_type": "code",
   "execution_count": 67,
   "id": "first-counter",
   "metadata": {
    "extensions": {
     "jupyter_dashboards": {
      "version": 1,
      "views": {
       "default_view": {
        "col": 0,
        "height": 17,
        "row": 15,
        "width": 7
       }
      }
     }
    },
    "scrolled": false
   },
   "outputs": [
    {
     "data": {
      "application/vnd.jupyter.widget-view+json": {
       "model_id": "c1f6a30442514f1390e8d81de75e0838",
       "version_major": 2,
       "version_minor": 0
      },
      "text/plain": [
       "Output()"
      ]
     },
     "metadata": {},
     "output_type": "display_data"
    }
   ],
   "source": [
    "# time series (single resource)\n",
    "widgets.interactive_output(timeSeriesVis1,{'selected_city':select_city, 'col':select_col, 'ndays':select_ndays})"
   ]
  },
  {
   "cell_type": "code",
   "execution_count": 68,
   "id": "accepted-assignment",
   "metadata": {
    "extensions": {
     "jupyter_dashboards": {
      "version": 1,
      "views": {
       "default_view": {
        "col": 4,
        "height": 15,
        "row": 0,
        "width": 8
       }
      }
     }
    },
    "scrolled": false
   },
   "outputs": [
    {
     "data": {
      "application/vnd.jupyter.widget-view+json": {
       "model_id": "5432d59ef2f84347b15bedd5cf3cbb8e",
       "version_major": 2,
       "version_minor": 0
      },
      "text/plain": [
       "Output()"
      ]
     },
     "metadata": {},
     "output_type": "display_data"
    }
   ],
   "source": [
    "# bubble map\n",
    "widgets.interactive_output(spatialVis2,{'selected_city':select_city, 'col':select_col})"
   ]
  },
  {
   "cell_type": "code",
   "execution_count": 69,
   "id": "timely-machinery",
   "metadata": {
    "extensions": {
     "jupyter_dashboards": {
      "version": 1,
      "views": {
       "default_view": {
        "col": 0,
        "height": 16,
        "row": 32,
        "width": 12
       }
      }
     }
    },
    "scrolled": false
   },
   "outputs": [
    {
     "data": {
      "application/vnd.jupyter.widget-view+json": {
       "model_id": "13dbedf64ee84c659be1e5a0cd37442d",
       "version_major": 2,
       "version_minor": 0
      },
      "text/plain": [
       "Output()"
      ]
     },
     "metadata": {},
     "output_type": "display_data"
    }
   ],
   "source": [
    "# time series (for all resources)\n",
    "widgets.interactive_output(timeSeriesVis2,{'selected_city':select_city, 'col':select_col, 'ndays':select_ndays})"
   ]
  },
  {
   "cell_type": "code",
   "execution_count": 70,
   "id": "caring-reach",
   "metadata": {
    "extensions": {
     "jupyter_dashboards": {
      "version": 1,
      "views": {
       "default_view": {
        "col": 7,
        "height": 17,
        "row": 15,
        "width": 5
       }
      }
     }
    },
    "scrolled": false
   },
   "outputs": [
    {
     "data": {
      "application/vnd.jupyter.widget-view+json": {
       "model_id": "645a5307ffa042c4add788160c515731",
       "version_major": 2,
       "version_minor": 0
      },
      "text/plain": [
       "Output()"
      ]
     },
     "metadata": {},
     "output_type": "display_data"
    }
   ],
   "source": [
    "# bar chart\n",
    "widgets.interactive_output(simpleVis1,{'selected_city':select_city, 'col':select_col})"
   ]
  },
  {
   "cell_type": "code",
   "execution_count": 71,
   "id": "reduced-contractor",
   "metadata": {
    "extensions": {
     "jupyter_dashboards": {
      "version": 1,
      "views": {
       "default_view": {
        "col": 5,
        "height": 17,
        "row": 48,
        "width": 7
       }
      }
     }
    }
   },
   "outputs": [
    {
     "data": {
      "application/vnd.jupyter.widget-view+json": {
       "model_id": "56de98ebe31041ce8ee93b8012a894a5",
       "version_major": 2,
       "version_minor": 0
      },
      "text/plain": [
       "Output()"
      ]
     },
     "metadata": {},
     "output_type": "display_data"
    }
   ],
   "source": [
    "# box plots\n",
    "widgets.interactive_output(timeSeriesVis3,{'selected_city':select_city, 'col':select_col, 'ndays':select_ndays})"
   ]
  },
  {
   "cell_type": "code",
   "execution_count": 72,
   "id": "ranking-source",
   "metadata": {
    "extensions": {
     "jupyter_dashboards": {
      "version": 1,
      "views": {
       "default_view": {
        "col": 0,
        "height": 17,
        "row": 48,
        "width": 5
       }
      }
     }
    },
    "scrolled": false
   },
   "outputs": [
    {
     "data": {
      "application/vnd.jupyter.widget-view+json": {
       "model_id": "f6d89c8ba8464926b1d9cf8e2b0617d5",
       "version_major": 2,
       "version_minor": 0
      },
      "text/plain": [
       "Output()"
      ]
     },
     "metadata": {},
     "output_type": "display_data"
    }
   ],
   "source": [
    "# histogram\n",
    "widgets.interactive_output(timeSeriesVis4,{'selected_city':select_city, 'col':select_col, 'ndays':select_ndays})"
   ]
  }
 ],
 "metadata": {
  "extensions": {
   "jupyter_dashboards": {
    "activeView": "default_view",
    "version": 1,
    "views": {
     "default_view": {
      "cellMargin": 10,
      "defaultCellHeight": 40,
      "maxColumns": 12,
      "name": "active_view",
      "type": "grid"
     }
    }
   }
  },
  "kernelspec": {
   "display_name": "Python 3",
   "language": "python",
   "name": "python3"
  },
  "language_info": {
   "codemirror_mode": {
    "name": "ipython",
    "version": 3
   },
   "file_extension": ".py",
   "mimetype": "text/x-python",
   "name": "python",
   "nbconvert_exporter": "python",
   "pygments_lexer": "ipython3",
   "version": "3.7.3"
  }
 },
 "nbformat": 4,
 "nbformat_minor": 5
}
