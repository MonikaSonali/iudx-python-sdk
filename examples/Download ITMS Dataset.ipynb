{
 "cells": [
  {
   "cell_type": "markdown",
   "metadata": {},
   "source": [
    "# Download dataset for Surat ITMS"
   ]
  },
  {
   "cell_type": "markdown",
   "metadata": {},
   "source": [
    "### Importing necessary libraries"
   ]
  },
  {
   "cell_type": "code",
   "execution_count": 1,
   "metadata": {},
   "outputs": [],
   "source": [
    "from iudx.entity.Entity import Entity\n",
    "\n",
    "import pandas as pd\n",
    "import json"
   ]
  },
  {
   "cell_type": "markdown",
   "metadata": {},
   "source": [
    "### Getting token from configuration "
   ]
  },
  {
   "cell_type": "code",
   "execution_count": 2,
   "metadata": {},
   "outputs": [],
   "source": [
    "config = {}\n",
    "with open(\"../config.json\", \"r\") as f:\n",
    "    config = json.load(f)"
   ]
  },
  {
   "cell_type": "markdown",
   "metadata": {},
   "source": [
    "### Surat ITMS Resource entities"
   ]
  },
  {
   "cell_type": "code",
   "execution_count": 3,
   "metadata": {},
   "outputs": [],
   "source": [
    "surat_itms_entity = \"suratmunicipal.org/6db486cb4f720e8585ba1f45a931c63c25dbbbda/rs.iudx.org.in/surat-itms-realtime-info/surat-itms-live-eta\""
   ]
  },
  {
   "cell_type": "markdown",
   "metadata": {},
   "source": [
    "### Building an Entity for Surat ITMS data."
   ]
  },
  {
   "cell_type": "code",
   "execution_count": 4,
   "metadata": {},
   "outputs": [],
   "source": [
    "entity = Entity(\n",
    "    entity_id=surat_itms_entity,\n",
    "    token=config[\"headers\"][\"token\"]\n",
    ")"
   ]
  },
  {
   "cell_type": "markdown",
   "metadata": {},
   "source": [
    "### Creating a temporal query to get Resource data during a time interval."
   ]
  },
  {
   "cell_type": "code",
   "execution_count": 5,
   "metadata": {},
   "outputs": [
    {
     "data": {
      "text/html": [
       "<div>\n",
       "<style scoped>\n",
       "    .dataframe tbody tr th:only-of-type {\n",
       "        vertical-align: middle;\n",
       "    }\n",
       "\n",
       "    .dataframe tbody tr th {\n",
       "        vertical-align: top;\n",
       "    }\n",
       "\n",
       "    .dataframe thead th {\n",
       "        text-align: right;\n",
       "    }\n",
       "</style>\n",
       "<table border=\"1\" class=\"dataframe\">\n",
       "  <thead>\n",
       "    <tr style=\"text-align: right;\">\n",
       "      <th></th>\n",
       "      <th>license_plate</th>\n",
       "      <th>last_stop_arrival_time</th>\n",
       "      <th>route_id</th>\n",
       "      <th>speed</th>\n",
       "      <th>last_stop_id</th>\n",
       "      <th>id</th>\n",
       "      <th>observationDateTime</th>\n",
       "      <th>trip_direction</th>\n",
       "      <th>trip_delay</th>\n",
       "      <th>vehicle_label</th>\n",
       "      <th>actual_trip_start_time</th>\n",
       "      <th>trip_id</th>\n",
       "      <th>location.coordinates</th>\n",
       "      <th>location.type</th>\n",
       "    </tr>\n",
       "  </thead>\n",
       "  <tbody>\n",
       "    <tr>\n",
       "      <th>0</th>\n",
       "      <td>GJ05BX1427</td>\n",
       "      <td>19:49:06</td>\n",
       "      <td>12D</td>\n",
       "      <td>56.0</td>\n",
       "      <td>4044</td>\n",
       "      <td>suratmunicipal.org/6db486cb4f720e8585ba1f45a93...</td>\n",
       "      <td>2021-01-01 19:50:00+05:30</td>\n",
       "      <td>DN</td>\n",
       "      <td>994</td>\n",
       "      <td>P61</td>\n",
       "      <td>2021-01-01T19:36:33+05:30</td>\n",
       "      <td>15472330</td>\n",
       "      <td>[72.870739, 21.195297]</td>\n",
       "      <td>Point</td>\n",
       "    </tr>\n",
       "    <tr>\n",
       "      <th>1</th>\n",
       "      <td>GJ05BX2049</td>\n",
       "      <td>19:44:40</td>\n",
       "      <td>136U</td>\n",
       "      <td>0.0</td>\n",
       "      <td>1002</td>\n",
       "      <td>suratmunicipal.org/6db486cb4f720e8585ba1f45a93...</td>\n",
       "      <td>2021-01-01 19:50:03+05:30</td>\n",
       "      <td>UP</td>\n",
       "      <td>54</td>\n",
       "      <td>A13</td>\n",
       "      <td>2021-01-01T19:43:42+05:30</td>\n",
       "      <td>15473016</td>\n",
       "      <td>[72.831181, 21.183466]</td>\n",
       "      <td>Point</td>\n",
       "    </tr>\n",
       "    <tr>\n",
       "      <th>2</th>\n",
       "      <td>GJ05BX3421</td>\n",
       "      <td>19:45:10</td>\n",
       "      <td>16D</td>\n",
       "      <td>23.0</td>\n",
       "      <td>2021</td>\n",
       "      <td>suratmunicipal.org/6db486cb4f720e8585ba1f45a93...</td>\n",
       "      <td>2021-01-01 19:50:04+05:30</td>\n",
       "      <td>DN</td>\n",
       "      <td>3544</td>\n",
       "      <td>C189</td>\n",
       "      <td>2021-01-01T18:58:52+05:30</td>\n",
       "      <td>15471658</td>\n",
       "      <td>[72.84861, 21.238487]</td>\n",
       "      <td>Point</td>\n",
       "    </tr>\n",
       "    <tr>\n",
       "      <th>3</th>\n",
       "      <td>GJ05BX2388</td>\n",
       "      <td>19:38:46</td>\n",
       "      <td>136U</td>\n",
       "      <td>41.8</td>\n",
       "      <td>2604</td>\n",
       "      <td>suratmunicipal.org/6db486cb4f720e8585ba1f45a93...</td>\n",
       "      <td>2021-01-01 19:50:04+05:30</td>\n",
       "      <td>UP</td>\n",
       "      <td>336</td>\n",
       "      <td>A44</td>\n",
       "      <td>2021-01-01T19:23:16+05:30</td>\n",
       "      <td>15473014</td>\n",
       "      <td>[72.769988, 21.158856]</td>\n",
       "      <td>Point</td>\n",
       "    </tr>\n",
       "    <tr>\n",
       "      <th>4</th>\n",
       "      <td>GJ05BX2640</td>\n",
       "      <td>None</td>\n",
       "      <td>16D</td>\n",
       "      <td>0.0</td>\n",
       "      <td>2028</td>\n",
       "      <td>suratmunicipal.org/6db486cb4f720e8585ba1f45a93...</td>\n",
       "      <td>2021-01-01 19:50:06+05:30</td>\n",
       "      <td>DN</td>\n",
       "      <td>465</td>\n",
       "      <td>C114</td>\n",
       "      <td>2021-01-01T18:27:47+05:30</td>\n",
       "      <td>15471630</td>\n",
       "      <td>[72.862002, 21.216164]</td>\n",
       "      <td>Point</td>\n",
       "    </tr>\n",
       "  </tbody>\n",
       "</table>\n",
       "</div>"
      ],
      "text/plain": [
       "  license_plate last_stop_arrival_time route_id  speed last_stop_id  \\\n",
       "0    GJ05BX1427               19:49:06      12D   56.0         4044   \n",
       "1    GJ05BX2049               19:44:40     136U    0.0         1002   \n",
       "2    GJ05BX3421               19:45:10      16D   23.0         2021   \n",
       "3    GJ05BX2388               19:38:46     136U   41.8         2604   \n",
       "4    GJ05BX2640                   None      16D    0.0         2028   \n",
       "\n",
       "                                                  id  \\\n",
       "0  suratmunicipal.org/6db486cb4f720e8585ba1f45a93...   \n",
       "1  suratmunicipal.org/6db486cb4f720e8585ba1f45a93...   \n",
       "2  suratmunicipal.org/6db486cb4f720e8585ba1f45a93...   \n",
       "3  suratmunicipal.org/6db486cb4f720e8585ba1f45a93...   \n",
       "4  suratmunicipal.org/6db486cb4f720e8585ba1f45a93...   \n",
       "\n",
       "        observationDateTime trip_direction  trip_delay vehicle_label  \\\n",
       "0 2021-01-01 19:50:00+05:30             DN         994           P61   \n",
       "1 2021-01-01 19:50:03+05:30             UP          54           A13   \n",
       "2 2021-01-01 19:50:04+05:30             DN        3544          C189   \n",
       "3 2021-01-01 19:50:04+05:30             UP         336           A44   \n",
       "4 2021-01-01 19:50:06+05:30             DN         465          C114   \n",
       "\n",
       "      actual_trip_start_time   trip_id    location.coordinates location.type  \n",
       "0  2021-01-01T19:36:33+05:30  15472330  [72.870739, 21.195297]         Point  \n",
       "1  2021-01-01T19:43:42+05:30  15473016  [72.831181, 21.183466]         Point  \n",
       "2  2021-01-01T18:58:52+05:30  15471658   [72.84861, 21.238487]         Point  \n",
       "3  2021-01-01T19:23:16+05:30  15473014  [72.769988, 21.158856]         Point  \n",
       "4  2021-01-01T18:27:47+05:30  15471630  [72.862002, 21.216164]         Point  "
      ]
     },
     "execution_count": 5,
     "metadata": {},
     "output_type": "execute_result"
    }
   ],
   "source": [
    "during_start_time = \"2021-01-01T14:20:00Z\"\n",
    "during_end_time = \"2021-01-01T14:40:00Z\"\n",
    "\n",
    "df_during = entity.during_search(\n",
    "    start_time=during_start_time,\n",
    "    end_time=during_end_time\n",
    ")\n",
    "\n",
    "df_during.head()"
   ]
  },
  {
   "cell_type": "code",
   "execution_count": 6,
   "metadata": {},
   "outputs": [
    {
     "name": "stdout",
     "output_type": "stream",
     "text": [
      "During Dataset has 3619 rows and 14 columns.\n"
     ]
    }
   ],
   "source": [
    "print(f\"During Dataset has {df_during.shape[0]} rows and {df_during.shape[1]} columns.\")"
   ]
  },
  {
   "cell_type": "markdown",
   "metadata": {},
   "source": [
    "### Defining file name to save the dataset"
   ]
  },
  {
   "cell_type": "code",
   "execution_count": 7,
   "metadata": {},
   "outputs": [],
   "source": [
    "file_name = \"IUDX_Surat_ITMS\" # default file_name is [entity_id + start_time + end_time]"
   ]
  },
  {
   "cell_type": "markdown",
   "metadata": {},
   "source": [
    "### Downloading Dataset"
   ]
  },
  {
   "cell_type": "code",
   "execution_count": 8,
   "metadata": {},
   "outputs": [
    {
     "name": "stdout",
     "output_type": "stream",
     "text": [
      "Data saved with file name: IUDX_Surat_ITMS.zip\n"
     ]
    }
   ],
   "source": [
    "entity.download(file_name)"
   ]
  },
  {
   "cell_type": "markdown",
   "metadata": {},
   "source": [
    "### Loading downloaded dataset"
   ]
  },
  {
   "cell_type": "code",
   "execution_count": 9,
   "metadata": {},
   "outputs": [
    {
     "data": {
      "text/html": [
       "<div>\n",
       "<style scoped>\n",
       "    .dataframe tbody tr th:only-of-type {\n",
       "        vertical-align: middle;\n",
       "    }\n",
       "\n",
       "    .dataframe tbody tr th {\n",
       "        vertical-align: top;\n",
       "    }\n",
       "\n",
       "    .dataframe thead th {\n",
       "        text-align: right;\n",
       "    }\n",
       "</style>\n",
       "<table border=\"1\" class=\"dataframe\">\n",
       "  <thead>\n",
       "    <tr style=\"text-align: right;\">\n",
       "      <th></th>\n",
       "      <th>license_plate</th>\n",
       "      <th>last_stop_arrival_time</th>\n",
       "      <th>route_id</th>\n",
       "      <th>speed</th>\n",
       "      <th>last_stop_id</th>\n",
       "      <th>id</th>\n",
       "      <th>observationDateTime</th>\n",
       "      <th>trip_direction</th>\n",
       "      <th>trip_delay</th>\n",
       "      <th>vehicle_label</th>\n",
       "      <th>actual_trip_start_time</th>\n",
       "      <th>trip_id</th>\n",
       "      <th>location.coordinates</th>\n",
       "      <th>location.type</th>\n",
       "    </tr>\n",
       "  </thead>\n",
       "  <tbody>\n",
       "    <tr>\n",
       "      <th>0</th>\n",
       "      <td>GJ05BX1427</td>\n",
       "      <td>19:49:06</td>\n",
       "      <td>12D</td>\n",
       "      <td>56.0</td>\n",
       "      <td>4044</td>\n",
       "      <td>suratmunicipal.org/6db486cb4f720e8585ba1f45a93...</td>\n",
       "      <td>2021-01-01 19:50:00+05:30</td>\n",
       "      <td>DN</td>\n",
       "      <td>994</td>\n",
       "      <td>P61</td>\n",
       "      <td>2021-01-01T19:36:33+05:30</td>\n",
       "      <td>15472330</td>\n",
       "      <td>[72.870739, 21.195297]</td>\n",
       "      <td>Point</td>\n",
       "    </tr>\n",
       "    <tr>\n",
       "      <th>1</th>\n",
       "      <td>GJ05BX2049</td>\n",
       "      <td>19:44:40</td>\n",
       "      <td>136U</td>\n",
       "      <td>0.0</td>\n",
       "      <td>1002</td>\n",
       "      <td>suratmunicipal.org/6db486cb4f720e8585ba1f45a93...</td>\n",
       "      <td>2021-01-01 19:50:03+05:30</td>\n",
       "      <td>UP</td>\n",
       "      <td>54</td>\n",
       "      <td>A13</td>\n",
       "      <td>2021-01-01T19:43:42+05:30</td>\n",
       "      <td>15473016</td>\n",
       "      <td>[72.831181, 21.183466]</td>\n",
       "      <td>Point</td>\n",
       "    </tr>\n",
       "    <tr>\n",
       "      <th>2</th>\n",
       "      <td>GJ05BX3421</td>\n",
       "      <td>19:45:10</td>\n",
       "      <td>16D</td>\n",
       "      <td>23.0</td>\n",
       "      <td>2021</td>\n",
       "      <td>suratmunicipal.org/6db486cb4f720e8585ba1f45a93...</td>\n",
       "      <td>2021-01-01 19:50:04+05:30</td>\n",
       "      <td>DN</td>\n",
       "      <td>3544</td>\n",
       "      <td>C189</td>\n",
       "      <td>2021-01-01T18:58:52+05:30</td>\n",
       "      <td>15471658</td>\n",
       "      <td>[72.84861, 21.238487]</td>\n",
       "      <td>Point</td>\n",
       "    </tr>\n",
       "    <tr>\n",
       "      <th>3</th>\n",
       "      <td>GJ05BX2388</td>\n",
       "      <td>19:38:46</td>\n",
       "      <td>136U</td>\n",
       "      <td>41.8</td>\n",
       "      <td>2604</td>\n",
       "      <td>suratmunicipal.org/6db486cb4f720e8585ba1f45a93...</td>\n",
       "      <td>2021-01-01 19:50:04+05:30</td>\n",
       "      <td>UP</td>\n",
       "      <td>336</td>\n",
       "      <td>A44</td>\n",
       "      <td>2021-01-01T19:23:16+05:30</td>\n",
       "      <td>15473014</td>\n",
       "      <td>[72.769988, 21.158856]</td>\n",
       "      <td>Point</td>\n",
       "    </tr>\n",
       "    <tr>\n",
       "      <th>4</th>\n",
       "      <td>GJ05BX2640</td>\n",
       "      <td>NaN</td>\n",
       "      <td>16D</td>\n",
       "      <td>0.0</td>\n",
       "      <td>2028</td>\n",
       "      <td>suratmunicipal.org/6db486cb4f720e8585ba1f45a93...</td>\n",
       "      <td>2021-01-01 19:50:06+05:30</td>\n",
       "      <td>DN</td>\n",
       "      <td>465</td>\n",
       "      <td>C114</td>\n",
       "      <td>2021-01-01T18:27:47+05:30</td>\n",
       "      <td>15471630</td>\n",
       "      <td>[72.862002, 21.216164]</td>\n",
       "      <td>Point</td>\n",
       "    </tr>\n",
       "  </tbody>\n",
       "</table>\n",
       "</div>"
      ],
      "text/plain": [
       "  license_plate last_stop_arrival_time route_id  speed  last_stop_id  \\\n",
       "0    GJ05BX1427               19:49:06      12D   56.0          4044   \n",
       "1    GJ05BX2049               19:44:40     136U    0.0          1002   \n",
       "2    GJ05BX3421               19:45:10      16D   23.0          2021   \n",
       "3    GJ05BX2388               19:38:46     136U   41.8          2604   \n",
       "4    GJ05BX2640                    NaN      16D    0.0          2028   \n",
       "\n",
       "                                                  id  \\\n",
       "0  suratmunicipal.org/6db486cb4f720e8585ba1f45a93...   \n",
       "1  suratmunicipal.org/6db486cb4f720e8585ba1f45a93...   \n",
       "2  suratmunicipal.org/6db486cb4f720e8585ba1f45a93...   \n",
       "3  suratmunicipal.org/6db486cb4f720e8585ba1f45a93...   \n",
       "4  suratmunicipal.org/6db486cb4f720e8585ba1f45a93...   \n",
       "\n",
       "         observationDateTime trip_direction  trip_delay vehicle_label  \\\n",
       "0  2021-01-01 19:50:00+05:30             DN         994           P61   \n",
       "1  2021-01-01 19:50:03+05:30             UP          54           A13   \n",
       "2  2021-01-01 19:50:04+05:30             DN        3544          C189   \n",
       "3  2021-01-01 19:50:04+05:30             UP         336           A44   \n",
       "4  2021-01-01 19:50:06+05:30             DN         465          C114   \n",
       "\n",
       "      actual_trip_start_time   trip_id    location.coordinates location.type  \n",
       "0  2021-01-01T19:36:33+05:30  15472330  [72.870739, 21.195297]         Point  \n",
       "1  2021-01-01T19:43:42+05:30  15473016  [72.831181, 21.183466]         Point  \n",
       "2  2021-01-01T18:58:52+05:30  15471658   [72.84861, 21.238487]         Point  \n",
       "3  2021-01-01T19:23:16+05:30  15473014  [72.769988, 21.158856]         Point  \n",
       "4  2021-01-01T18:27:47+05:30  15471630  [72.862002, 21.216164]         Point  "
      ]
     },
     "execution_count": 9,
     "metadata": {},
     "output_type": "execute_result"
    }
   ],
   "source": [
    "import zipfile\n",
    "\n",
    "zf = zipfile.ZipFile(f\"{file_name}.zip\")\n",
    "df = pd.read_csv(zf.open(f\"{file_name}.csv\"))\n",
    "df.head()"
   ]
  }
 ],
 "metadata": {
  "kernelspec": {
   "display_name": "Python 3",
   "language": "python",
   "name": "python3"
  },
  "language_info": {
   "codemirror_mode": {
    "name": "ipython",
    "version": 3
   },
   "file_extension": ".py",
   "mimetype": "text/x-python",
   "name": "python",
   "nbconvert_exporter": "python",
   "pygments_lexer": "ipython3",
   "version": "3.7.6"
  }
 },
 "nbformat": 4,
 "nbformat_minor": 4
}
